{
  "nbformat": 4,
  "nbformat_minor": 0,
  "metadata": {
    "colab": {
      "provenance": []
    },
    "kernelspec": {
      "name": "python3",
      "display_name": "Python 3"
    },
    "language_info": {
      "name": "python"
    }
  },
  "cells": [
    {
      "cell_type": "markdown",
      "source": [
        "#PYTHON OOPS Practicle Questions"
      ],
      "metadata": {
        "id": "w_j0nsOYLvft"
      }
    },
    {
      "cell_type": "code",
      "source": [],
      "metadata": {
        "id": "TJVr3KQmNebT"
      },
      "execution_count": null,
      "outputs": []
    },
    {
      "cell_type": "markdown",
      "source": [
        "#1. What is Object-Oriented Programming (OOP)?\n",
        "  - Object-Oriented Programming (OOP) is a programming paradigm based on the\n",
        "  concept of objects.\n",
        "   It allows structuring programs by bundling data and behaviors (functions) into single units called classes.\n",
        "   Objects are instances of classes that can hold state (properties) and perform actions (methods).\n",
        "   OOP promotes concepts like encapsulation, inheritance, polymorphism, and abstraction.\n",
        "   It helps in making code more modular, reusable, and easier to maintain.\n",
        "   Languages like Java, C++, Python, and JavaScript support OOP principles."
      ],
      "metadata": {
        "id": "t4MHdajVL8x0"
      }
    },
    {
      "cell_type": "markdown",
      "source": [
        "#2 What is a class in OOP?\n",
        " - A class in Object-Oriented Programming is a blueprint or template for creating objects.\n",
        "It defines the properties (variables) and methods (functions) that the objects created from it will have.\n",
        "Think of a class like a design plan—you can create many similar objects (instances) from it.\n",
        "For example, a Car class might have properties like color and speed, and methods like drive() or brake().\n",
        "Classes support key OOP principles like encapsulation and inheritance.\n",
        "In Java or C++, you define a class using the class keyword.\n",
        "  -"
      ],
      "metadata": {
        "id": "jqFmFnFuMqNS"
      }
    },
    {
      "cell_type": "markdown",
      "source": [
        "#3. What is an object in OOPs?\n",
        "   - An object in Object-Oriented Programming is a real-world entity created from a class.\n",
        "   It contains data (properties) and functions (methods) that operate on the data.\n",
        "  Objects are also known as instances of a class.\n",
        "  Each object can hold unique values for its properties.\n",
        "  Objects allow us to model real-life things in code, like a car, person, or book.\n",
        "  For example, car1 and car2 can be two different objects of the Car class."
      ],
      "metadata": {
        "id": "pNCK9b-NOD9i"
      }
    },
    {
      "cell_type": "markdown",
      "source": [
        "#4. What is the difference between abstraction and encapsulation?\n",
        "   - Here’s the difference between abstraction and encapsulation in simple terms:\n",
        "\n",
        "  Abstraction means hiding the complex implementation and showing only the necessary details to the user.\n",
        "\n",
        "  Encapsulation means wrapping data and methods together into a single unit (class) and restricting direct access to some of the object’s components.\n",
        "\n",
        " Abstraction focuses on what an object does, not how it does it.\n",
        "\n",
        "  Encapsulation focuses on how to protect the object’s internal state from outside interference.\n",
        "\n",
        "  Abstraction is achieved using abstract classes or interfaces.\n",
        "\n",
        "  Encapsulation is achieved using access modifiers like private, public, or protected."
      ],
      "metadata": {
        "id": "sfz6jGyZPTZs"
      }
    },
    {
      "cell_type": "markdown",
      "source": [
        "#5.What are dunder methods in Python?\n",
        " - Dunder methods in Python (short for \"double underscore\" methods) are special methods with names that start and end with double underscores, like __init__, __str__, __add__, etc.\n",
        "They are also called magic methods because they enable custom behavior for Python operators and built-in functions.\n",
        "For example, __init__ is used to initialize objects, and __str__ defines how the object is displayed as a string.\n",
        "These methods are automatically called by Python in certain situations.\n",
        "You can override them in your class to customize object behavior.\n",
        "Example: def __len__(self): lets you use len(myObject) on your class."
      ],
      "metadata": {
        "id": "P-V6HG1PP1PP"
      }
    },
    {
      "cell_type": "markdown",
      "source": [
        "#6. Explain the concept of inheritance in OOP?\n",
        "  - Inheritance in Object-Oriented Programming is the process where one class (child/subclass) inherits the properties and methods of another class (parent/superclass).\n",
        "It allows code reuse, so you don’t have to write the same code again in multiple classes.\n",
        "The child class can also have its own additional features or override the parent’s methods.\n",
        "Inheritance helps in building a hierarchy between classes.\n",
        "For example, a Car class can inherit from a general Vehicle class.\n",
        "This supports the OOP principle of reusability and extensibility"
      ],
      "metadata": {
        "id": "UFw6MAKoQLLs"
      }
    },
    {
      "cell_type": "markdown",
      "source": [
        "#7. What is polymorphism in OOP?\n",
        "  - Polymorphism in Object-Oriented Programming means “many forms”.\n",
        "It allows objects of different classes to be treated as objects of a common superclass.\n",
        "The same method name can behave differently based on the object calling it.\n",
        "There are two types: compile-time (method overloading) and run-time (method overriding) polymorphism.\n",
        "For example, a draw() method can work differently for Circle and Rectangle classes.\n",
        "Polymorphism makes code more flexible and maintainable."
      ],
      "metadata": {
        "id": "f2M-YDOzQcDm"
      }
    },
    {
      "cell_type": "markdown",
      "source": [
        "#8.How is encapsulation achieved in Python?\n",
        "-  Encapsulation in Python is achieved by restricting direct access to class variables and methods using access modifiers.\n",
        "\n",
        "  Private members are created using a double underscore prefix (__variable), which makes them inaccessible from outside the class directly.\n",
        "\n",
        "  Protected members use a single underscore (_variable), suggesting they should not be accessed directly outside the class.\n",
        "\n",
        "  You can provide getter and setter methods to access or update private data safely.\n",
        "\n",
        "  Encapsulation helps in data hiding, protecting internal object state from unintended changes.\n",
        "\n",
        "  It ensures better control over how data is used within a class."
      ],
      "metadata": {
        "id": "2suc_1EiQs0L"
      }
    },
    {
      "cell_type": "markdown",
      "source": [
        "#9.What is a constructor in Python?\n",
        "  - A constructor in Python is a special method called __init__() that is automatically invoked when an object of a class is created. It is used to initialize the object's attributes with specific values at the time of object creation. The constructor method takes self as the first parameter, which refers to the current instance of the class. Additional parameters can be passed to set the object's attributes. The constructor does not return any value, it implicitly returns None. Constructors ensure that an object starts in a valid state. Here's an example:\n",
        "\n",
        "\n",
        "   class Person:\n",
        "    def __init__(self, name, age):\n",
        "    self.name = name\n",
        "     self.age = age\n",
        "     person1 = Person(\"Alice\", 30)"
      ],
      "metadata": {
        "id": "_D2fU3qDRGGR"
      }
    },
    {
      "cell_type": "markdown",
      "source": [
        "#10.What are class and static methods in Python?\n",
        "  - In Python, class methods and static methods are both associated with a class rather than an instance.\n",
        "\n",
        "  Class Method:\n",
        "\n",
        "  Defined with the @classmethod decorator.\n",
        "\n",
        "  The first parameter is cls, which refers to the class itself.\n",
        "\n",
        "  Class methods can access and modify class-level attributes or state.\n",
        "\n",
        "  Static Method:\n",
        "\n",
        "  Defined with the @staticmethod decorator.\n",
        "\n",
        "  It does not take self or cls as its first parameter.\n",
        "\n",
        "  Static methods don’t depend on class or instance attributes and are used for utility functions that are related to the class but don’t modify its state."
      ],
      "metadata": {
        "id": "IGV6K6h1RzNB"
      }
    },
    {
      "cell_type": "markdown",
      "source": [
        "#11. What is method overloading in Python?\n",
        "  - Method overloading in Python refers to the ability to define multiple methods with the same name but different parameters. However, Python does not support method overloading in the traditional sense (like C++ or Java) where you can define methods with the same name but different argument types or number of arguments.\n",
        "\n",
        "  In Python, the latest defined method with the same name will override the previous ones. However, you can achieve similar behavior by using default arguments, variable-length arguments, or manual dispatch based on the number or type of arguments passed."
      ],
      "metadata": {
        "id": "GAwIRf17Rvv7"
      }
    },
    {
      "cell_type": "markdown",
      "source": [
        "#12.What is method overriding in OOP?\n",
        "  -\n",
        "Method overriding in Object-Oriented Programming occurs when a subclass provides its own implementation of a method that is already defined in its superclass.\n",
        "The method in the subclass overrides the method in the superclass, meaning that when the method is called on an instance of the subclass, the subclass's version of the method is executed instead of the superclass's version.\n",
        "This allows the subclass to customize or extend the behavior of the inherited method.\n",
        "The method signature (name, parameters) in the subclass must be the same as that in the superclass for overriding to occur.\n",
        "Method overriding is a key aspect of polymorphism and helps in achieving dynamic method dispatch."
      ],
      "metadata": {
        "id": "cfddOJ3UQ-jD"
      }
    },
    {
      "cell_type": "markdown",
      "source": [
        "#13.What is a property decorator in Python?\n",
        "  - In Python, a property decorator is a built-in function used to define a method as a property. It allows you to define getter, setter, and deleter methods for an attribute, providing an easy way to add logic to attribute access. This way, you can control how an attribute is accessed, modified, or deleted while maintaining a simple interface for the class user.\n",
        "\n",
        "  The @property decorator is typically used to define the getter method, and you can follow it with @<property_name>.setter and @<property_name>.deleter to define the setter and deleter methods."
      ],
      "metadata": {
        "id": "ydoAO6wePKTo"
      }
    },
    {
      "cell_type": "markdown",
      "source": [
        "#14. Why is polymorphism important in OOP?\n",
        "  -\n",
        "Polymorphism in OOP allows objects of different classes to be treated as instances of the same class through a common interface. It promotes code reusability by enabling methods to work with various object types. Maintenance becomes easier as changes in the base class automatically propagate to derived classes. It supports extensibility, letting you add new functionality without altering existing code. Dynamic method resolution occurs at runtime, ensuring the correct method is called. It reduces complex logic and enhances code readability. Polymorphism adheres to the Open/Closed Principle, supporting class extension without modification. It also helps in real-world modeling, reflecting diverse behaviors in a unified way."
      ],
      "metadata": {
        "id": "W7ShbXhyTeDG"
      }
    },
    {
      "cell_type": "markdown",
      "source": [
        "#15. What is an abstract class in Python?\n",
        "  - An abstract class in Python is a class that cannot be instantiated directly and must be subclassed. It defines abstract methods that are declared but not implemented. Subclasses must provide an implementation for these abstract methods. To create an abstract class, use the abc module with the ABC class and the @abstractmethod decorator. Abstract classes allow you to enforce a common interface for all subclasses. They are useful for ensuring certain methods are implemented across different subclasses. You cannot instantiate an abstract class, but you can subclass it. Abstract classes help define clear design patterns and are critical in large applications."
      ],
      "metadata": {
        "id": "h6I_WjbRTwYI"
      }
    },
    {
      "cell_type": "markdown",
      "source": [
        "#16.What are the advantages of OOP?\n",
        "  -\n",
        "The advantages of Object-Oriented Programming (OOP) are numerous, making it a popular paradigm for large, complex software systems. Here are some of the key benefits:\n",
        "\n",
        " Modularity: OOP organizes code into discrete objects, making it easier to break down and manage. Each object is responsible for a specific functionality, promoting clean, modular code.\n",
        "\n",
        " Reusability: Once a class is written, it can be reused across different parts of the program or even in other projects. This reduces redundancy and enhances efficiency.\n",
        "\n",
        " Scalability: OOP's modular structure makes it easier to scale applications. New features can be added by extending existing classes without disrupting existing code.\n",
        "\n",
        " Maintainability: With OOP, changes are easier to implement because the code is more organized. Changes to one part of the code can be made without affecting others, making the system easier to maintain.\n",
        "\n",
        " Encapsulation: OOP allows hiding the internal details of objects and exposing only necessary functionality. This protects data and reduces complexity, enhancing security and integrity.\n",
        "\n",
        " Abstraction: OOP enables abstraction, where complex systems can be represented by simple interfaces. This allows you to focus on high-level interactions instead of implementation details.\n",
        "\n",
        " Inheritance: OOP promotes code reuse through inheritance, where subclasses can inherit properties and methods from parent classes. This makes it easier to extend functionality without rewriting code.\n",
        "\n",
        " Polymorphism: OOP supports polymorphism, allowing objects of different classes to be treated as instances of a common base class, simplifying code and making it more flexible.\n",
        "\n",
        " Real-World Modeling: OOP closely mirrors real-world entities and their interactions, making it easier to design systems that are intuitive and easier to understand for developers."
      ],
      "metadata": {
        "id": "1XTLOJGrUD_j"
      }
    },
    {
      "cell_type": "markdown",
      "source": [
        "#17.What is the difference between a class variable and an instance variable?\n",
        "  -\n",
        "Class Variable is defined within a class, outside any methods.\n",
        "\n",
        " It is shared among all instances of the class.\n",
        "\n",
        " Class variables are accessed using the class name or an instance.\n",
        "\n",
        " Instance Variable is defined inside methods, typically __init__.\n",
        "\n",
        " It is unique to each instance of the class.\n",
        "\n",
        " Instance variables are accessed using the instance of the class.\n",
        "\n",
        " Class variables are used for values that are common across instances.\n",
        "\n",
        "  Instance variables are used for values specific to each instance.\n",
        "\n",
        " Modifying a class variable affects all instances, unless overridden.\n",
        "\n",
        " Modifying an instance variable only affects that specific instance."
      ],
      "metadata": {
        "id": "IiMt9CtKUgRA"
      }
    },
    {
      "cell_type": "markdown",
      "source": [
        "#18. What is multiple inheritance in Python?\n",
        "   - Multiple inheritance in Python allows a class to inherit from more than one parent class.\n",
        "This enables a subclass to inherit attributes and methods from multiple base classes.\n",
        "You define multiple parent classes by separating them with commas in the class definition.\n",
        "Python uses the Method Resolution Order (MRO) to determine the order in which methods are inherited.\n",
        "If a method is present in multiple parent classes, MRO helps decide which method to call.\n",
        "Example:\n",
        "\n",
        "\n",
        "  class Animal:  \n",
        "    def speak(self): return \"Animal speaks\"  \n",
        "   class Mammal:  \n",
        "    def walk(self): return \"Mammal walks\"  \n",
        "   class Dog(Animal, Mammal):  \n",
        "    def bark(self): return \"Woof!\"  \n"
      ],
      "metadata": {
        "id": "pxcf7LpxU7Gm"
      }
    },
    {
      "cell_type": "markdown",
      "source": [
        "#19.Explain the purpose of ‘’__str__’ and ‘__repr__’ ‘ methods in Python?\n",
        "  - In Python, the __str__ and __repr__ methods are used to define how objects should be represented as strings, but they serve different purposes:\n",
        "\n",
        "  __str__ is for creating a human-readable string representation of an object.\n",
        "\n",
        "  It is used when you call print() or str() on an object.\n",
        "\n",
        "  The goal is to provide an easy-to-read output for the end user.\n",
        "\n",
        "  Example:\n",
        "\n",
        "  class Person:\n",
        "    def __str__(self):\n",
        "        return \"User-friendly string\"\n",
        "  __repr__ is used for a more formal, unambiguous string representation of the object.\n",
        "\n",
        "  It’s meant to be used for debugging and development.\n",
        "\n",
        "  If __str__ is not defined, Python uses __repr__ for print() or str().\n",
        "\n",
        "  Example:\n",
        "\n",
        "\n",
        "    class Person:\n",
        "    def __repr__(self):\n",
        "      return \"Person('John', 25)\"\n",
        "   Key Difference: __str__ is user-focused, while __repr__ is developer-focused.\n",
        "\n",
        "   __repr__ should ideally return a string that could recreate the object.\n",
        "\n",
        "   The __repr__ method helps in debugging and logging.\n",
        "\n",
        "   The __str__ method is used to present the object to the end user.\n",
        "\n",
        "   Both methods enhance the readability and clarity of object representations.\n"
      ],
      "metadata": {
        "id": "0FCPjVSYVWOC"
      }
    },
    {
      "cell_type": "markdown",
      "source": [
        "#20.What is the significance of the ‘super()’ function in Python?\n",
        "  - The super() function in Python is used to call a method from a parent (or superclass) from within a child (or subclass) class. It helps to access methods or attributes of the parent class, especially in the context of inheritance. This is particularly useful when you want to extend or modify the behavior of inherited methods.\n",
        "\n",
        "  Key Significance:\n",
        " Access Parent Class Methods: super() allows you to invoke methods from a  parent class without explicitly naming the class.\n",
        "\n",
        "  Method Overriding: It helps in method overriding, allowing you to extend or modify the behavior of a method in a subclass while still retaining the functionality of the parent class.\n",
        "\n",
        "  Avoiding Redundancy: When a subclass method calls super(), it avoids duplicating code from the parent class, promoting code reuse.\n",
        "\n",
        "  Multiple Inheritance: In cases of multiple inheritance, super() ensures that the method resolution order (MRO) is followed correctly and avoids calling the same method more than once."
      ],
      "metadata": {
        "id": "4Q8UpkW0VwZz"
      }
    },
    {
      "cell_type": "markdown",
      "source": [
        "#21.What is the significance of the __del__ method in Python?\n",
        " - The __del__ method in Python is a destructor method, used to define behavior when an object is about to be destroyed or deallocated. It's part of Python's garbage collection mechanism, allowing you to perform any necessary cleanup when an object is no longer needed, such as closing files or releasing external resources.\n",
        "\n",
        "  Key Significance:\n",
        " Object Destruction: The __del__ method is automatically called when an object is about to be destroyed, i.e., when there are no more references to the object.\n",
        "\n",
        "  Resource Cleanup: It allows you to release resources like file handles, database connections, or network connections, ensuring proper cleanup before the object is deleted.\n",
        "\n",
        "  Memory Management: While Python handles memory management automatically, __del__ can be used to manage external resources that are not automatically cleaned up.\n",
        "\n",
        "  Customization: You can customize the object destruction process by defining your own __del__ method."
      ],
      "metadata": {
        "id": "5FVCJJbNWMll"
      }
    },
    {
      "cell_type": "markdown",
      "source": [
        "#22.What is the difference between @staticmethod and @classmethod in Python?\n",
        "  - @staticmethod is a method that doesn't take self or cls as its first argument.\n",
        "\n",
        "  It doesn't interact with instance or class data.\n",
        "\n",
        "  Usage: Used for utility functions related to the class.\n",
        "\n",
        "  Example:\n",
        "\n",
        "\n",
        "    class Math:\n",
        "    @staticmethod\n",
        "    def add(a, b): return a + b\n",
        "  @classmethod is a method that takes cls (the class) as the first argument.\n",
        "\n",
        "  It can modify class-level variables and work with class data.\n",
        "\n",
        "  Usage: Used when interacting with class-level attributes or creating alternative constructors.\n",
        "\n",
        "Example:\n",
        "\n",
        "    class Person:\n",
        "    @classmethod\n",
        "    def get_population(cls): return cls.population\n",
        "Key Difference: @staticmethod doesn't use class or instance data, while @classmethod does.\n",
        "\n",
        "@staticmethod is for general-purpose functions, @classmethod is for class-specific operations."
      ],
      "metadata": {
        "id": "-Ma2N6JVWgK6"
      }
    },
    {
      "cell_type": "markdown",
      "source": [
        "#23.How does polymorphism work in Python with inheritance?\n",
        "  - Polymorphism in Python allows objects of different classes to be treated as instances of a common superclass.\n",
        "\n",
        "  It enables methods to have the same name but behave differently based on the object’s class.\n",
        "\n",
        "  Inheritance plays a key role in polymorphism by allowing subclasses to inherit and override methods from a parent class.\n",
        "\n",
        "  Method overriding occurs when a subclass provides its own implementation of a method that is already defined in the parent class.\n",
        "\n",
        "  Python resolves which method to call dynamically at runtime, based on the actual object type.\n",
        "\n",
        "  Example: A Dog class and Cat class can both override the speak() method from the Animal class.\n",
        "\n",
        "  When calling speak() on a list of Dog and Cat objects, Python invokes the respective class's method.\n",
        "\n",
        "  Polymorphism makes code more reusable and flexible by allowing different objects to use the same method name.\n",
        "\n",
        "  It improves maintainability by enabling new classes to be added without changing existing code.\n",
        "\n",
        "   In summary, polymorphism in inheritance provides a way to define common behavior while allowing specific implementations in subclasses."
      ],
      "metadata": {
        "id": "Bwj0E94vXtIV"
      }
    },
    {
      "cell_type": "markdown",
      "source": [
        "#24. What is method chaining in Python OOP?\n",
        "  - Method chaining in Python Object-Oriented Programming (OOP) refers to the technique of calling multiple methods on the same object in a single line of code. Each method call returns the object itself (or another object that supports further method calls), allowing you to chain subsequent method calls.\n",
        "\n",
        "   Key Points:\n",
        "Return the Object: For method chaining to work, each method must return the object (or another object that allows further method calls).\n",
        "\n",
        "  Clean and Concise Code: It makes the code more compact and readable by eliminating the need to repeat the object name multiple times.\n",
        "\n",
        "  Common in Fluent Interfaces: Method chaining is often used in fluent interfaces or builders, where multiple operations on an object are done in a single expression."
      ],
      "metadata": {
        "id": "5-SzA4lJYCPG"
      }
    },
    {
      "cell_type": "markdown",
      "source": [
        "#25. What is the purpose of the __call__ method in Python?\n",
        "  - The __call__ method in Python is a special method that allows an instance of a class to be called like a function. When you define a __call__ method in a class, you can use objects of that class as if they were functions.\n",
        "\n",
        "  Purpose:\n",
        "  Make an object callable: It allows you to invoke an object using parentheses, just like calling a function.\n",
        "\n",
        "  Encapsulate behavior: It can be used to define custom behavior when an object is \"called\" with arguments.\n",
        "\n",
        "  Flexible Design: This feature is commonly used to implement functors or objects that need to mimic function behavior.\n",
        "\n",
        "  How It Works:\n",
        "  When an object is called, Python looks for the __call__ method. If it's defined, Python executes it with the provided arguments."
      ],
      "metadata": {
        "id": "5xrm2rSNYS1s"
      }
    },
    {
      "cell_type": "markdown",
      "source": [
        "#Python OOPS Practicle"
      ],
      "metadata": {
        "id": "Uo4B0HE4Y254"
      }
    },
    {
      "cell_type": "code",
      "source": [
        "#1. Create a parent class Animal with a method speak() that prints a generic message. Create a child class Dog that overrides the speak() method to print \"Bark!\"?\n",
        "\n",
        "class Animal:\n",
        "    def speak(self):\n",
        "        print(\"Animal makes a sound\")\n",
        "\n",
        "\n",
        "class Dog(Animal):\n",
        "    def speak(self):\n",
        "        print(\"Bark!\")\n",
        "\n",
        "\n",
        "a = Animal()\n",
        "a.speak()\n",
        "\n",
        "d = Dog()\n",
        "d.speak()\n",
        "\n"
      ],
      "metadata": {
        "colab": {
          "base_uri": "https://localhost:8080/"
        },
        "id": "G_ZNFhJrZGmE",
        "outputId": "60efdcf6-b7ae-4498-c679-d43ba052e46d"
      },
      "execution_count": 1,
      "outputs": [
        {
          "output_type": "stream",
          "name": "stdout",
          "text": [
            "Animal makes a sound\n",
            "Bark!\n"
          ]
        }
      ]
    },
    {
      "cell_type": "code",
      "source": [
        "#2. Write a program to create an abstract class Shape with a method area(). Derive classes Circle and Rectangle from it and implement the area() method in both.\n",
        "from abc import ABC, abstractmethod\n",
        "import math\n",
        "\n",
        "# Abstract class\n",
        "class Shape(ABC):\n",
        "    @abstractmethod\n",
        "    def area(self):\n",
        "        pass\n",
        "\n",
        "# Derived class: Circle\n",
        "class Circle(Shape):\n",
        "    def __init__(self, radius):\n",
        "        self.radius = radius\n",
        "\n",
        "    def area(self):\n",
        "        return math.pi * self.radius ** 2\n",
        "\n",
        "# Derived class: Rectangle\n",
        "class Rectangle(Shape):\n",
        "    def __init__(self, width, height):\n",
        "        self.width = width\n",
        "        self.height = height\n",
        "\n",
        "    def area(self):\n",
        "        return self.width * self.height\n",
        "\n",
        "# Example usage\n",
        "circle = Circle(5)\n",
        "rectangle = Rectangle(4, 6)\n",
        "\n",
        "print(\"Area of Circle:\", circle.area())\n",
        "print(\"Area of Rectangle:\", rectangle.area())\n",
        "\n",
        "\n",
        "\n"
      ],
      "metadata": {
        "colab": {
          "base_uri": "https://localhost:8080/"
        },
        "id": "0_WDccv2ZkKP",
        "outputId": "2715391d-41f5-47f7-ceb1-6f69ba39991a"
      },
      "execution_count": 3,
      "outputs": [
        {
          "output_type": "stream",
          "name": "stdout",
          "text": [
            "Area of Circle: 78.53981633974483\n",
            "Area of Rectangle: 24\n"
          ]
        }
      ]
    },
    {
      "cell_type": "code",
      "source": [
        "#3. Implement a multi-level inheritance scenario where a class Vehicle has an attribute type. Derive a class Car and further derive a class ElectricCar that adds a battery attribute\n",
        "   # Base class\n",
        "class Vehicle:\n",
        "    def __init__(self, type):\n",
        "        self.type = type\n",
        "\n",
        "# First derived class\n",
        "class Car(Vehicle):\n",
        "    def __init__(self, type, brand):\n",
        "        super().__init__(type)\n",
        "        self.brand = brand\n",
        "\n",
        "# Second derived class\n",
        "class ElectricCar(Car):\n",
        "    def __init__(self, type, brand, battery):\n",
        "        super().__init__(type, brand)\n",
        "        self.battery = battery\n",
        "\n",
        "    def display_info(self):\n",
        "        print(f\"Type: {self.type}\")\n",
        "        print(f\"Brand: {self.brand}\")\n",
        "        print(f\"Battery: {self.battery} kWh\")\n",
        "\n",
        "\n",
        "my_ev = ElectricCar(\"4-wheeler\", \"Tesla\", 75)\n",
        "my_ev.display_info()\n"
      ],
      "metadata": {
        "colab": {
          "base_uri": "https://localhost:8080/"
        },
        "id": "zVFyaOJTZ-J7",
        "outputId": "904b99b5-2b7f-4fa7-dcbc-758d714c51b2"
      },
      "execution_count": 4,
      "outputs": [
        {
          "output_type": "stream",
          "name": "stdout",
          "text": [
            "Type: 4-wheeler\n",
            "Brand: Tesla\n",
            "Battery: 75 kWh\n"
          ]
        }
      ]
    },
    {
      "cell_type": "code",
      "source": [
        "#4. Demonstrate polymorphism by creating a base class Bird with a method fly(). Create two derived classes Sparrow and Penguin that override the fly() method.\n",
        "\n",
        "   # Base class\n",
        "class Bird:\n",
        "    def fly(self):\n",
        "        print(\"Bird is flying...\")\n",
        "\n",
        "# Derived class Sparrow\n",
        "class Sparrow(Bird):\n",
        "    def fly(self):\n",
        "        print(\"Sparrow flies high in the sky!\")\n",
        "\n",
        "# Derived class Penguin\n",
        "class Penguin(Bird):\n",
        "    def fly(self):\n",
        "        print(\"Penguins can't fly, but they swim really well!\")\n",
        "\n",
        "# Function to demonstrate polymorphism\n",
        "def bird_flight(bird):\n",
        "    bird.fly()\n",
        "\n",
        "# Create objects\n",
        "sparrow = Sparrow()\n",
        "penguin = Penguin()\n",
        "\n",
        "# Demonstrate polymorphism\n",
        "bird_flight(sparrow)\n",
        "bird_flight(penguin)\n"
      ],
      "metadata": {
        "colab": {
          "base_uri": "https://localhost:8080/"
        },
        "id": "3OG2b4ilaP-f",
        "outputId": "c841a45c-ded3-4ad3-e6e2-fd6eaa6cff05"
      },
      "execution_count": 5,
      "outputs": [
        {
          "output_type": "stream",
          "name": "stdout",
          "text": [
            "Sparrow flies high in the sky!\n",
            "Penguins can't fly, but they swim really well!\n"
          ]
        }
      ]
    },
    {
      "cell_type": "code",
      "source": [
        "#5. Write a program to demonstrate encapsulation by creating a class BankAccount with private attributes balance and methods to deposit, withdraw, and check balance?\n",
        "class BankAccount:\n",
        "    def __init__(self, initial_balance):\n",
        "        self.__balance = initial_balance  # Private attribute\n",
        "\n",
        "    def deposit(self, amount):\n",
        "        if amount > 0:\n",
        "            self.__balance += amount\n",
        "            print(f\"Deposited: ₹{amount}\")\n",
        "        else:\n",
        "            print(\"Invalid deposit amount!\")\n",
        "\n",
        "    def withdraw(self, amount):\n",
        "        if 0 < amount <= self.__balance:\n",
        "            self.__balance -= amount\n",
        "            print(f\"Withdrawn: ₹{amount}\")\n",
        "        else:\n",
        "            print(\"Insufficient balance or invalid amount!\")\n",
        "\n",
        "    def check_balance(self):\n",
        "        print(f\"Current Balance: ₹{self.__balance}\")\n",
        "\n",
        "# Example usage\n",
        "account = BankAccount(5000)\n",
        "account.check_balance()\n",
        "account.deposit(1500)\n",
        "account.withdraw(2000)\n",
        "account.check_balance()\n",
        "\n",
        "\n",
        "\n"
      ],
      "metadata": {
        "colab": {
          "base_uri": "https://localhost:8080/"
        },
        "id": "fbWSC08Zaekn",
        "outputId": "95f44e22-c528-4ac6-d1f7-31b25b9bfef4"
      },
      "execution_count": 9,
      "outputs": [
        {
          "output_type": "stream",
          "name": "stdout",
          "text": [
            "Current Balance: ₹5000\n",
            "Deposited: ₹1500\n",
            "Withdrawn: ₹2000\n",
            "Current Balance: ₹4500\n"
          ]
        }
      ]
    },
    {
      "cell_type": "code",
      "source": [
        "#6. Demonstrate runtime polymorphism using a method play() in a base class Instrument. Derive classes Guitar and Piano that implement their own version of play().\n",
        "\n",
        "class Instrument:\n",
        "    def play(self):\n",
        "        print(\"Instrument is playing...\")\n",
        "\n",
        "# Derived class: Guitar\n",
        "class Guitar(Instrument):\n",
        "    def play(self):\n",
        "        print(\"Strumming the guitar!\")\n",
        "\n",
        "# Derived class: Piano\n",
        "class Piano(Instrument):\n",
        "    def play(self):\n",
        "        print(\"Playing the piano keys!\")\n",
        "\n",
        "# Function that demonstrates runtime polymorphism\n",
        "def perform(instrument):\n",
        "    instrument.play()\n",
        "\n",
        "# Create objects of derived classes\n",
        "guitar = Guitar()\n",
        "piano = Piano()\n",
        "\n",
        "# Call the same method on different objects\n",
        "perform(guitar)\n",
        "perform(piano)\n"
      ],
      "metadata": {
        "colab": {
          "base_uri": "https://localhost:8080/"
        },
        "id": "2eB5z8tZbTHF",
        "outputId": "57029675-7bcb-43e0-9bd7-d1a57e4166d5"
      },
      "execution_count": 10,
      "outputs": [
        {
          "output_type": "stream",
          "name": "stdout",
          "text": [
            "Strumming the guitar!\n",
            "Playing the piano keys!\n"
          ]
        }
      ]
    },
    {
      "cell_type": "code",
      "source": [
        "#7.Create a class MathOperations with a class method add_numbers() to add two numbers and a static method subtract_numbers() to subtract two numbers?\n",
        "class MathOperations:\n",
        "    @classmethod\n",
        "    def add_numbers(cls, a, b):\n",
        "        return a + b\n",
        "\n",
        "    @staticmethod\n",
        "    def subtract_numbers(a, b):\n",
        "        return a - b\n",
        "\n",
        "# Example usage\n",
        "print(\"Addition:\", MathOperations.add_numbers(10, 5))\n",
        "print(\"Subtraction:\", MathOperations.subtract_numbers(10, 5))\n"
      ],
      "metadata": {
        "colab": {
          "base_uri": "https://localhost:8080/"
        },
        "id": "2s7D5lkbbjSo",
        "outputId": "617595d5-f4c4-4c8f-ba5c-8a6f32f0b8b0"
      },
      "execution_count": 11,
      "outputs": [
        {
          "output_type": "stream",
          "name": "stdout",
          "text": [
            "Addition: 15\n",
            "Subtraction: 5\n"
          ]
        }
      ]
    },
    {
      "cell_type": "code",
      "source": [
        "#8. Implement a class Person with a class method to count the total number of persons created?\n",
        "class Person:\n",
        "    total_persons = 0  # Class variable to keep track of total number of persons\n",
        "\n",
        "    def __init__(self, name, age):\n",
        "        self.name = name\n",
        "        self.age = age\n",
        "        Person.total_persons += 1  # Increment the total count each time a new person is created\n",
        "\n",
        "    @classmethod\n",
        "    def count_persons(cls):\n",
        "        return cls.total_persons  # Return the total number of persons created\n",
        "\n",
        "# Example usage\n",
        "person1 = Person(\"Alice\", 30)\n",
        "person2 = Person(\"Bob\", 25)\n",
        "person3 = Person(\"Charlie\", 35)\n",
        "\n",
        "\n",
        "print(\"Total persons created:\", Person.count_persons())\n"
      ],
      "metadata": {
        "colab": {
          "base_uri": "https://localhost:8080/"
        },
        "id": "zoqq86Nhbwp3",
        "outputId": "857a3234-8126-4871-887f-934b40eafc42"
      },
      "execution_count": 13,
      "outputs": [
        {
          "output_type": "stream",
          "name": "stdout",
          "text": [
            "Total persons created: 3\n"
          ]
        }
      ]
    },
    {
      "cell_type": "code",
      "source": [
        "#9.Write a class Fraction with attributes numerator and denominator. Override the str method to display the fraction as \"numerator/denominator\".\n",
        "class Fraction:\n",
        "    def __init__(self, numerator, denominator):\n",
        "        self.numerator = numerator\n",
        "        self.denominator = denominator\n",
        "\n",
        "    def __str__(self):\n",
        "        return f\"{self.numerator}/{self.denominator}\"\n",
        "\n",
        "# Example usage\n",
        "fraction1 = Fraction(3, 4)\n",
        "fraction2 = Fraction(5, 7)\n",
        "\n",
        "print(fraction1)\n",
        "print(fraction2)\n"
      ],
      "metadata": {
        "colab": {
          "base_uri": "https://localhost:8080/"
        },
        "id": "rqHdnwlFcCLU",
        "outputId": "cab249bc-6ffa-4f5c-c2c7-448571d59be3"
      },
      "execution_count": 14,
      "outputs": [
        {
          "output_type": "stream",
          "name": "stdout",
          "text": [
            "3/4\n",
            "5/7\n"
          ]
        }
      ]
    },
    {
      "cell_type": "code",
      "source": [
        "#10.Demonstrate operator overloading by creating a class Vector and overriding the add method to add two vectors\n",
        "class Vector:\n",
        "    def __init__(self, x, y):\n",
        "        self.x = x\n",
        "        self.y = y\n",
        "\n",
        "    # Overloading the + operator to add two vectors\n",
        "    def __add__(self, other):\n",
        "        if isinstance(other, Vector):\n",
        "            return Vector(self.x + other.x, self.y + other.y)\n",
        "        return NotImplemented\n",
        "\n",
        "    def __str__(self):\n",
        "        return f\"({self.x}, {self.y})\"\n",
        "\n",
        "# Example usage\n",
        "vector1 = Vector(1, 2)\n",
        "vector2 = Vector(3, 4)\n",
        "\n",
        "# Adding two vectors using the overloaded + operator\n",
        "result_vector = vector1 + vector2\n",
        "\n",
        "# Printing the result of the addition\n",
        "print(\"Result of vector addition:\", result_vector)"
      ],
      "metadata": {
        "colab": {
          "base_uri": "https://localhost:8080/"
        },
        "id": "Y6LSTASzcP5o",
        "outputId": "929b4c8f-8cb8-496b-8a03-1878af1cdfe7"
      },
      "execution_count": 15,
      "outputs": [
        {
          "output_type": "stream",
          "name": "stdout",
          "text": [
            "Result of vector addition: (4, 6)\n"
          ]
        }
      ]
    },
    {
      "cell_type": "code",
      "source": [
        "#11. Create a class Person with attributes name and age. Add a method greet() that prints \"Hello, my name is {name} and I am {age} years old.\"\n",
        "class Person:\n",
        "    def __init__(self, name, age):\n",
        "        self.name = name\n",
        "        self.age = age\n",
        "\n",
        "    def greet(self):\n",
        "        print(f\"Hello, my name is {self.name} and I am {self.age} years old.\")\n",
        "\n",
        "# Example usage\n",
        "person1 = Person(\"Alice\", 30)\n",
        "person2 = Person(\"Bob\", 25)\n",
        "\n",
        "person1.greet()\n",
        "person2.greet()\n"
      ],
      "metadata": {
        "colab": {
          "base_uri": "https://localhost:8080/"
        },
        "id": "XeqAwmXQcdWz",
        "outputId": "31164f29-d9ca-400c-8670-4b65ea8f1dbc"
      },
      "execution_count": 16,
      "outputs": [
        {
          "output_type": "stream",
          "name": "stdout",
          "text": [
            "Hello, my name is Alice and I am 30 years old.\n",
            "Hello, my name is Bob and I am 25 years old.\n"
          ]
        }
      ]
    },
    {
      "cell_type": "code",
      "source": [
        "#12. Implement a class Student with attributes name and grades. Create a method average_grade() to compute the average of the grades\n",
        "class Student:\n",
        "    def __init__(self, name, grades):\n",
        "        self.name = name\n",
        "        self.grades = grades  # List of grades\n",
        "\n",
        "    def average_grade(self):\n",
        "        if len(self.grades) > 0:\n",
        "            return sum(self.grades) / len(self.grades)\n",
        "        return 0  # Return 0 if no grades are provided\n",
        "\n",
        "# Example usage\n",
        "student1 = Student(\"Alice\", [90, 85, 88, 92])\n",
        "student2 = Student(\"Bob\", [70, 75, 80, 65])\n",
        "\n",
        "# Compute and print average grades\n",
        "print(f\"{student1.name}'s average grade: {student1.average_grade()}\")\n",
        "print(f\"{student2.name}'s average grade: {student2.average_grade()}\")\n",
        ""
      ],
      "metadata": {
        "colab": {
          "base_uri": "https://localhost:8080/"
        },
        "id": "u-J8U3oTcxWa",
        "outputId": "c8b8a623-80e6-45cb-d51c-0ba58d78d65a"
      },
      "execution_count": 17,
      "outputs": [
        {
          "output_type": "stream",
          "name": "stdout",
          "text": [
            "Alice's average grade: 88.75\n",
            "Bob's average grade: 72.5\n"
          ]
        }
      ]
    },
    {
      "cell_type": "code",
      "source": [
        "#13. Create a class Rectangle with methods set_dimensions() to set the dimensions and area() to calculate the area.\n",
        "class Rectangle:\n",
        "    def __init__(self):\n",
        "        self.length = 0\n",
        "        self.width = 0\n",
        "\n",
        "    def set_dimensions(self, length, width):\n",
        "        self.length = length\n",
        "        self.width = width\n",
        "\n",
        "    def area(self):\n",
        "        return self.length * self.width\n",
        "\n",
        "# Example usage\n",
        "rectangle = Rectangle()\n",
        "\n",
        "# Setting dimensions\n",
        "rectangle.set_dimensions(5, 3)\n",
        "\n",
        "# Calculating and printing area\n",
        "print(f\"Area of rectangle: {rectangle.area()}\")\n"
      ],
      "metadata": {
        "colab": {
          "base_uri": "https://localhost:8080/"
        },
        "id": "rBLga_QWdAqw",
        "outputId": "f12abab9-2623-4efa-8799-59c7b45e6c57"
      },
      "execution_count": 18,
      "outputs": [
        {
          "output_type": "stream",
          "name": "stdout",
          "text": [
            "Area of rectangle: 15\n"
          ]
        }
      ]
    },
    {
      "cell_type": "code",
      "source": [
        "#14.Create a class Employee with a method calculate_salary() that computes the salary based on hours worked and hourly rate. Create a derived class Manager that adds a bonus to the salary.\n",
        "\n",
        "class Employee:\n",
        "    def __init__(self, name, hours_worked, hourly_rate):\n",
        "        self.name = name\n",
        "        self.hours_worked = hours_worked\n",
        "        self.hourly_rate = hourly_rate\n",
        "\n",
        "    def calculate_salary(self):\n",
        "        return self.hours_worked * self.hourly_rate\n",
        "\n",
        "\n",
        "class Manager(Employee):\n",
        "    def __init__(self, name, hours_worked, hourly_rate, bonus):\n",
        "        super().__init__(name, hours_worked, hourly_rate)\n",
        "        self.bonus = bonus\n",
        "\n",
        "    def calculate_salary(self):\n",
        "        base_salary = super().calculate_salary()\n",
        "        return base_salary + self.bonus\n",
        "\n",
        "\n",
        "employee1 = Employee(\"John\", 160, 20)\n",
        "manager1 = Manager(\"Alice\", 160, 25, 500)\n",
        "\n",
        "\n",
        "print(f\"{employee1.name}'s salary: ${employee1.calculate_salary()}\")\n",
        "print(f\"{manager1.name}'s salary: ${manager1.calculate_salary()}\")\n"
      ],
      "metadata": {
        "colab": {
          "base_uri": "https://localhost:8080/"
        },
        "id": "FtGNF2JVdMHv",
        "outputId": "2d47e521-9aa1-427a-98a8-f2697e77fa2e"
      },
      "execution_count": 19,
      "outputs": [
        {
          "output_type": "stream",
          "name": "stdout",
          "text": [
            "John's salary: $3200\n",
            "Alice's salary: $4500\n"
          ]
        }
      ]
    },
    {
      "cell_type": "code",
      "source": [
        "#15. Create a class Product with attributes name, price, and quantity. Implement a method total_price() that calculates the total price of the product.\n",
        "class Product:\n",
        "    def __init__(self, name, price, quantity):\n",
        "        self.name = name\n",
        "        self.price = price\n",
        "        self.quantity = quantity\n",
        "\n",
        "    def total_price(self):\n",
        "        return self.price * self.quantity\n",
        "\n",
        "# Example usage\n",
        "product1 = Product(\"Laptop\", 1000, 3)\n",
        "product2 = Product(\"Phone\", 500, 5)\n",
        "\n",
        "# Calculating and printing total price\n",
        "print(f\"Total price of {product1.name}: ${product1.total_price()}\")\n",
        "print(f\"Total price of {product2.name}: ${product2.total_price()}\")\n"
      ],
      "metadata": {
        "colab": {
          "base_uri": "https://localhost:8080/"
        },
        "id": "YsJ_VTn9dkOq",
        "outputId": "fea945aa-a3c4-406a-b900-51d1ee226db9"
      },
      "execution_count": 20,
      "outputs": [
        {
          "output_type": "stream",
          "name": "stdout",
          "text": [
            "Total price of Laptop: $3000\n",
            "Total price of Phone: $2500\n"
          ]
        }
      ]
    },
    {
      "cell_type": "code",
      "source": [
        "#16. Create a class Animal with an abstract method sound(). Create two derived classes Cow and Sheep that implement the sound() method.\n",
        "from abc import ABC, abstractmethod\n",
        "\n",
        "class Animal(ABC):\n",
        "\n",
        "    @abstractmethod\n",
        "    def sound(self):\n",
        "        pass\n",
        "\n",
        "\n",
        "class Cow(Animal):\n",
        "    def sound(self):\n",
        "        return \"Moo\"\n",
        "\n",
        "\n",
        "class Sheep(Animal):\n",
        "    def sound(self):\n",
        "        return \"Baa\"\n",
        "\n",
        "cow = Cow()\n",
        "sheep = Sheep()\n",
        "\n",
        "print(f\"Cow makes sound: {cow.sound()}\")\n",
        "print(f\"Sheep makes sound: {sheep.sound()}\")\n",
        "\n"
      ],
      "metadata": {
        "colab": {
          "base_uri": "https://localhost:8080/"
        },
        "id": "XGoeIg6kd2uu",
        "outputId": "cdb87b23-d6da-4b55-e8a9-0924a0387086"
      },
      "execution_count": 21,
      "outputs": [
        {
          "output_type": "stream",
          "name": "stdout",
          "text": [
            "Cow makes sound: Moo\n",
            "Sheep makes sound: Baa\n"
          ]
        }
      ]
    },
    {
      "cell_type": "code",
      "source": [
        "#17. Create a class Book with attributes title, author, and year_published. Add a method get_book_info() that returns a formatted string with the book's details.\n",
        "class Book:\n",
        "    def __init__(self, title, author, year_published):\n",
        "        self.title = title\n",
        "        self.author = author\n",
        "        self.year_published = year_published\n",
        "\n",
        "    def get_book_info(self):\n",
        "        return f\"Title: {self.title}\\nAuthor: {self.author}\\nYear Published: {self.year_published}\"\n",
        "\n",
        "\n",
        "book1 = Book(\"To Kill a Mockingbird\", \"Harper Lee\", 1960)\n",
        "book2 = Book(\"1984\", \"George Orwell\", 1949)\n",
        "\n",
        "\n",
        "print(book1.get_book_info())\n",
        "print()\n",
        "print(book2.get_book_info())\n"
      ],
      "metadata": {
        "colab": {
          "base_uri": "https://localhost:8080/"
        },
        "id": "KG2i_XtneIJ2",
        "outputId": "c0ca73fe-31f4-421b-b90b-c681fd146f66"
      },
      "execution_count": 22,
      "outputs": [
        {
          "output_type": "stream",
          "name": "stdout",
          "text": [
            "Title: To Kill a Mockingbird\n",
            "Author: Harper Lee\n",
            "Year Published: 1960\n",
            "\n",
            "Title: 1984\n",
            "Author: George Orwell\n",
            "Year Published: 1949\n"
          ]
        }
      ]
    },
    {
      "cell_type": "code",
      "source": [
        "#18. Create a class House with attributes address and price. Create a derived class Mansion that adds an attribute number_of_rooms.\n",
        "# Base class House\n",
        "class House:\n",
        "    def __init__(self, address, price):\n",
        "        self.address = address\n",
        "        self.price = price\n",
        "\n",
        "    def get_house_info(self):\n",
        "        return f\"Address: {self.address}\\nPrice: ${self.price}\"\n",
        "\n",
        "# Derived class Mansion\n",
        "class Mansion(House):\n",
        "    def __init__(self, address, price, number_of_rooms):\n",
        "        super().__init__(address, price)\n",
        "        self.number_of_rooms = number_of_rooms\n",
        "\n",
        "    def get_mansion_info(self):\n",
        "        return f\"{self.get_house_info()}\\nNumber of Rooms: {self.number_of_rooms}\"\n",
        "\n",
        "# Example usage\n",
        "house = House(\"123 Main St\", 300000)\n",
        "mansion = Mansion(\"456 Luxury Rd\", 5000000, 15)\n",
        "\n",
        "# Printing house information\n",
        "print(\"House Info:\")\n",
        "print(house.get_house_info())\n",
        "print()\n",
        "\n",
        "# Printing mansion information\n",
        "print(\"Mansion Info:\")\n",
        "print(mansion.get_mansion_info())\n"
      ],
      "metadata": {
        "colab": {
          "base_uri": "https://localhost:8080/"
        },
        "id": "dDeobiQ2eZSq",
        "outputId": "0162c232-ca15-473d-cd86-00c993ce85d5"
      },
      "execution_count": 23,
      "outputs": [
        {
          "output_type": "stream",
          "name": "stdout",
          "text": [
            "House Info:\n",
            "Address: 123 Main St\n",
            "Price: $300000\n",
            "\n",
            "Mansion Info:\n",
            "Address: 456 Luxury Rd\n",
            "Price: $5000000\n",
            "Number of Rooms: 15\n"
          ]
        }
      ]
    },
    {
      "cell_type": "markdown",
      "source": [],
      "metadata": {
        "id": "HQrZdyxkZFoS"
      }
    }
  ]
}